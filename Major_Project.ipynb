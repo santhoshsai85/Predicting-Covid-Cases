{
 "cells": [
  {
   "cell_type": "code",
   "execution_count": 1,
   "metadata": {},
   "outputs": [],
   "source": [
    "import pandas as pd\n",
    "pd.set_option('display.max_columns',36)\n",
    "import numpy as np\n",
    "import seaborn as sns\n",
    "import matplotlib.pyplot as plt"
   ]
  },
  {
   "cell_type": "markdown",
   "metadata": {},
   "source": [
    "# Reading dataset"
   ]
  },
  {
   "cell_type": "code",
   "execution_count": 2,
   "metadata": {},
   "outputs": [
    {
     "data": {
      "text/html": [
       "<div>\n",
       "<style scoped>\n",
       "    .dataframe tbody tr th:only-of-type {\n",
       "        vertical-align: middle;\n",
       "    }\n",
       "\n",
       "    .dataframe tbody tr th {\n",
       "        vertical-align: top;\n",
       "    }\n",
       "\n",
       "    .dataframe thead th {\n",
       "        text-align: right;\n",
       "    }\n",
       "</style>\n",
       "<table border=\"1\" class=\"dataframe\">\n",
       "  <thead>\n",
       "    <tr style=\"text-align: right;\">\n",
       "      <th></th>\n",
       "      <th>iso_code</th>\n",
       "      <th>continent</th>\n",
       "      <th>location</th>\n",
       "      <th>date</th>\n",
       "      <th>total_cases</th>\n",
       "      <th>new_cases</th>\n",
       "      <th>total_deaths</th>\n",
       "      <th>new_deaths</th>\n",
       "      <th>total_cases_per_million</th>\n",
       "      <th>new_cases_per_million</th>\n",
       "      <th>total_deaths_per_million</th>\n",
       "      <th>new_deaths_per_million</th>\n",
       "      <th>new_tests</th>\n",
       "      <th>total_tests</th>\n",
       "      <th>total_tests_per_thousand</th>\n",
       "      <th>new_tests_per_thousand</th>\n",
       "      <th>new_tests_smoothed</th>\n",
       "      <th>new_tests_smoothed_per_thousand</th>\n",
       "      <th>tests_per_case</th>\n",
       "      <th>positive_rate</th>\n",
       "      <th>tests_units</th>\n",
       "      <th>stringency_index</th>\n",
       "      <th>population</th>\n",
       "      <th>population_density</th>\n",
       "      <th>median_age</th>\n",
       "      <th>aged_65_older</th>\n",
       "      <th>aged_70_older</th>\n",
       "      <th>gdp_per_capita</th>\n",
       "      <th>extreme_poverty</th>\n",
       "      <th>cardiovasc_death_rate</th>\n",
       "      <th>diabetes_prevalence</th>\n",
       "      <th>female_smokers</th>\n",
       "      <th>male_smokers</th>\n",
       "      <th>handwashing_facilities</th>\n",
       "      <th>hospital_beds_per_thousand</th>\n",
       "      <th>life_expectancy</th>\n",
       "    </tr>\n",
       "  </thead>\n",
       "  <tbody>\n",
       "    <tr>\n",
       "      <th>0</th>\n",
       "      <td>AFG</td>\n",
       "      <td>Asia</td>\n",
       "      <td>Afghanistan</td>\n",
       "      <td>2019-12-31</td>\n",
       "      <td>0.0</td>\n",
       "      <td>0.0</td>\n",
       "      <td>0.0</td>\n",
       "      <td>0.0</td>\n",
       "      <td>0.0</td>\n",
       "      <td>0.0</td>\n",
       "      <td>0.0</td>\n",
       "      <td>0.0</td>\n",
       "      <td>NaN</td>\n",
       "      <td>NaN</td>\n",
       "      <td>NaN</td>\n",
       "      <td>NaN</td>\n",
       "      <td>NaN</td>\n",
       "      <td>NaN</td>\n",
       "      <td>NaN</td>\n",
       "      <td>NaN</td>\n",
       "      <td>NaN</td>\n",
       "      <td>NaN</td>\n",
       "      <td>38928341.0</td>\n",
       "      <td>54.422</td>\n",
       "      <td>18.6</td>\n",
       "      <td>2.581</td>\n",
       "      <td>1.337</td>\n",
       "      <td>1803.987</td>\n",
       "      <td>NaN</td>\n",
       "      <td>597.029</td>\n",
       "      <td>9.59</td>\n",
       "      <td>NaN</td>\n",
       "      <td>NaN</td>\n",
       "      <td>37.746</td>\n",
       "      <td>0.5</td>\n",
       "      <td>64.83</td>\n",
       "    </tr>\n",
       "    <tr>\n",
       "      <th>1</th>\n",
       "      <td>AFG</td>\n",
       "      <td>Asia</td>\n",
       "      <td>Afghanistan</td>\n",
       "      <td>2020-01-01</td>\n",
       "      <td>0.0</td>\n",
       "      <td>0.0</td>\n",
       "      <td>0.0</td>\n",
       "      <td>0.0</td>\n",
       "      <td>0.0</td>\n",
       "      <td>0.0</td>\n",
       "      <td>0.0</td>\n",
       "      <td>0.0</td>\n",
       "      <td>NaN</td>\n",
       "      <td>NaN</td>\n",
       "      <td>NaN</td>\n",
       "      <td>NaN</td>\n",
       "      <td>NaN</td>\n",
       "      <td>NaN</td>\n",
       "      <td>NaN</td>\n",
       "      <td>NaN</td>\n",
       "      <td>NaN</td>\n",
       "      <td>0.0</td>\n",
       "      <td>38928341.0</td>\n",
       "      <td>54.422</td>\n",
       "      <td>18.6</td>\n",
       "      <td>2.581</td>\n",
       "      <td>1.337</td>\n",
       "      <td>1803.987</td>\n",
       "      <td>NaN</td>\n",
       "      <td>597.029</td>\n",
       "      <td>9.59</td>\n",
       "      <td>NaN</td>\n",
       "      <td>NaN</td>\n",
       "      <td>37.746</td>\n",
       "      <td>0.5</td>\n",
       "      <td>64.83</td>\n",
       "    </tr>\n",
       "    <tr>\n",
       "      <th>2</th>\n",
       "      <td>AFG</td>\n",
       "      <td>Asia</td>\n",
       "      <td>Afghanistan</td>\n",
       "      <td>2020-01-02</td>\n",
       "      <td>0.0</td>\n",
       "      <td>0.0</td>\n",
       "      <td>0.0</td>\n",
       "      <td>0.0</td>\n",
       "      <td>0.0</td>\n",
       "      <td>0.0</td>\n",
       "      <td>0.0</td>\n",
       "      <td>0.0</td>\n",
       "      <td>NaN</td>\n",
       "      <td>NaN</td>\n",
       "      <td>NaN</td>\n",
       "      <td>NaN</td>\n",
       "      <td>NaN</td>\n",
       "      <td>NaN</td>\n",
       "      <td>NaN</td>\n",
       "      <td>NaN</td>\n",
       "      <td>NaN</td>\n",
       "      <td>0.0</td>\n",
       "      <td>38928341.0</td>\n",
       "      <td>54.422</td>\n",
       "      <td>18.6</td>\n",
       "      <td>2.581</td>\n",
       "      <td>1.337</td>\n",
       "      <td>1803.987</td>\n",
       "      <td>NaN</td>\n",
       "      <td>597.029</td>\n",
       "      <td>9.59</td>\n",
       "      <td>NaN</td>\n",
       "      <td>NaN</td>\n",
       "      <td>37.746</td>\n",
       "      <td>0.5</td>\n",
       "      <td>64.83</td>\n",
       "    </tr>\n",
       "    <tr>\n",
       "      <th>3</th>\n",
       "      <td>AFG</td>\n",
       "      <td>Asia</td>\n",
       "      <td>Afghanistan</td>\n",
       "      <td>2020-01-03</td>\n",
       "      <td>0.0</td>\n",
       "      <td>0.0</td>\n",
       "      <td>0.0</td>\n",
       "      <td>0.0</td>\n",
       "      <td>0.0</td>\n",
       "      <td>0.0</td>\n",
       "      <td>0.0</td>\n",
       "      <td>0.0</td>\n",
       "      <td>NaN</td>\n",
       "      <td>NaN</td>\n",
       "      <td>NaN</td>\n",
       "      <td>NaN</td>\n",
       "      <td>NaN</td>\n",
       "      <td>NaN</td>\n",
       "      <td>NaN</td>\n",
       "      <td>NaN</td>\n",
       "      <td>NaN</td>\n",
       "      <td>0.0</td>\n",
       "      <td>38928341.0</td>\n",
       "      <td>54.422</td>\n",
       "      <td>18.6</td>\n",
       "      <td>2.581</td>\n",
       "      <td>1.337</td>\n",
       "      <td>1803.987</td>\n",
       "      <td>NaN</td>\n",
       "      <td>597.029</td>\n",
       "      <td>9.59</td>\n",
       "      <td>NaN</td>\n",
       "      <td>NaN</td>\n",
       "      <td>37.746</td>\n",
       "      <td>0.5</td>\n",
       "      <td>64.83</td>\n",
       "    </tr>\n",
       "    <tr>\n",
       "      <th>4</th>\n",
       "      <td>AFG</td>\n",
       "      <td>Asia</td>\n",
       "      <td>Afghanistan</td>\n",
       "      <td>2020-01-04</td>\n",
       "      <td>0.0</td>\n",
       "      <td>0.0</td>\n",
       "      <td>0.0</td>\n",
       "      <td>0.0</td>\n",
       "      <td>0.0</td>\n",
       "      <td>0.0</td>\n",
       "      <td>0.0</td>\n",
       "      <td>0.0</td>\n",
       "      <td>NaN</td>\n",
       "      <td>NaN</td>\n",
       "      <td>NaN</td>\n",
       "      <td>NaN</td>\n",
       "      <td>NaN</td>\n",
       "      <td>NaN</td>\n",
       "      <td>NaN</td>\n",
       "      <td>NaN</td>\n",
       "      <td>NaN</td>\n",
       "      <td>0.0</td>\n",
       "      <td>38928341.0</td>\n",
       "      <td>54.422</td>\n",
       "      <td>18.6</td>\n",
       "      <td>2.581</td>\n",
       "      <td>1.337</td>\n",
       "      <td>1803.987</td>\n",
       "      <td>NaN</td>\n",
       "      <td>597.029</td>\n",
       "      <td>9.59</td>\n",
       "      <td>NaN</td>\n",
       "      <td>NaN</td>\n",
       "      <td>37.746</td>\n",
       "      <td>0.5</td>\n",
       "      <td>64.83</td>\n",
       "    </tr>\n",
       "  </tbody>\n",
       "</table>\n",
       "</div>"
      ],
      "text/plain": [
       "  iso_code continent     location        date  total_cases  new_cases  \\\n",
       "0      AFG      Asia  Afghanistan  2019-12-31          0.0        0.0   \n",
       "1      AFG      Asia  Afghanistan  2020-01-01          0.0        0.0   \n",
       "2      AFG      Asia  Afghanistan  2020-01-02          0.0        0.0   \n",
       "3      AFG      Asia  Afghanistan  2020-01-03          0.0        0.0   \n",
       "4      AFG      Asia  Afghanistan  2020-01-04          0.0        0.0   \n",
       "\n",
       "   total_deaths  new_deaths  total_cases_per_million  new_cases_per_million  \\\n",
       "0           0.0         0.0                      0.0                    0.0   \n",
       "1           0.0         0.0                      0.0                    0.0   \n",
       "2           0.0         0.0                      0.0                    0.0   \n",
       "3           0.0         0.0                      0.0                    0.0   \n",
       "4           0.0         0.0                      0.0                    0.0   \n",
       "\n",
       "   total_deaths_per_million  new_deaths_per_million  new_tests  total_tests  \\\n",
       "0                       0.0                     0.0        NaN          NaN   \n",
       "1                       0.0                     0.0        NaN          NaN   \n",
       "2                       0.0                     0.0        NaN          NaN   \n",
       "3                       0.0                     0.0        NaN          NaN   \n",
       "4                       0.0                     0.0        NaN          NaN   \n",
       "\n",
       "   total_tests_per_thousand  new_tests_per_thousand  new_tests_smoothed  \\\n",
       "0                       NaN                     NaN                 NaN   \n",
       "1                       NaN                     NaN                 NaN   \n",
       "2                       NaN                     NaN                 NaN   \n",
       "3                       NaN                     NaN                 NaN   \n",
       "4                       NaN                     NaN                 NaN   \n",
       "\n",
       "   new_tests_smoothed_per_thousand  tests_per_case  positive_rate tests_units  \\\n",
       "0                              NaN             NaN            NaN         NaN   \n",
       "1                              NaN             NaN            NaN         NaN   \n",
       "2                              NaN             NaN            NaN         NaN   \n",
       "3                              NaN             NaN            NaN         NaN   \n",
       "4                              NaN             NaN            NaN         NaN   \n",
       "\n",
       "   stringency_index  population  population_density  median_age  \\\n",
       "0               NaN  38928341.0              54.422        18.6   \n",
       "1               0.0  38928341.0              54.422        18.6   \n",
       "2               0.0  38928341.0              54.422        18.6   \n",
       "3               0.0  38928341.0              54.422        18.6   \n",
       "4               0.0  38928341.0              54.422        18.6   \n",
       "\n",
       "   aged_65_older  aged_70_older  gdp_per_capita  extreme_poverty  \\\n",
       "0          2.581          1.337        1803.987              NaN   \n",
       "1          2.581          1.337        1803.987              NaN   \n",
       "2          2.581          1.337        1803.987              NaN   \n",
       "3          2.581          1.337        1803.987              NaN   \n",
       "4          2.581          1.337        1803.987              NaN   \n",
       "\n",
       "   cardiovasc_death_rate  diabetes_prevalence  female_smokers  male_smokers  \\\n",
       "0                597.029                 9.59             NaN           NaN   \n",
       "1                597.029                 9.59             NaN           NaN   \n",
       "2                597.029                 9.59             NaN           NaN   \n",
       "3                597.029                 9.59             NaN           NaN   \n",
       "4                597.029                 9.59             NaN           NaN   \n",
       "\n",
       "   handwashing_facilities  hospital_beds_per_thousand  life_expectancy  \n",
       "0                  37.746                         0.5            64.83  \n",
       "1                  37.746                         0.5            64.83  \n",
       "2                  37.746                         0.5            64.83  \n",
       "3                  37.746                         0.5            64.83  \n",
       "4                  37.746                         0.5            64.83  "
      ]
     },
     "execution_count": 2,
     "metadata": {},
     "output_type": "execute_result"
    }
   ],
   "source": [
    "df=pd.read_csv(\"owid-covid-data.csv\")\n",
    "df.head()"
   ]
  },
  {
   "cell_type": "code",
   "execution_count": 3,
   "metadata": {},
   "outputs": [
    {
     "data": {
      "text/plain": [
       "(35717, 36)"
      ]
     },
     "execution_count": 3,
     "metadata": {},
     "output_type": "execute_result"
    }
   ],
   "source": [
    "df.shape"
   ]
  },
  {
   "cell_type": "markdown",
   "metadata": {},
   "source": [
    "# Subsetting the dataset where location='India'"
   ]
  },
  {
   "cell_type": "code",
   "execution_count": 4,
   "metadata": {},
   "outputs": [
    {
     "data": {
      "text/html": [
       "<div>\n",
       "<style scoped>\n",
       "    .dataframe tbody tr th:only-of-type {\n",
       "        vertical-align: middle;\n",
       "    }\n",
       "\n",
       "    .dataframe tbody tr th {\n",
       "        vertical-align: top;\n",
       "    }\n",
       "\n",
       "    .dataframe thead th {\n",
       "        text-align: right;\n",
       "    }\n",
       "</style>\n",
       "<table border=\"1\" class=\"dataframe\">\n",
       "  <thead>\n",
       "    <tr style=\"text-align: right;\">\n",
       "      <th></th>\n",
       "      <th>iso_code</th>\n",
       "      <th>continent</th>\n",
       "      <th>location</th>\n",
       "      <th>date</th>\n",
       "      <th>total_cases</th>\n",
       "      <th>new_cases</th>\n",
       "      <th>total_deaths</th>\n",
       "      <th>new_deaths</th>\n",
       "      <th>total_cases_per_million</th>\n",
       "      <th>new_cases_per_million</th>\n",
       "      <th>total_deaths_per_million</th>\n",
       "      <th>new_deaths_per_million</th>\n",
       "      <th>new_tests</th>\n",
       "      <th>total_tests</th>\n",
       "      <th>total_tests_per_thousand</th>\n",
       "      <th>new_tests_per_thousand</th>\n",
       "      <th>new_tests_smoothed</th>\n",
       "      <th>new_tests_smoothed_per_thousand</th>\n",
       "      <th>tests_per_case</th>\n",
       "      <th>positive_rate</th>\n",
       "      <th>tests_units</th>\n",
       "      <th>stringency_index</th>\n",
       "      <th>population</th>\n",
       "      <th>population_density</th>\n",
       "      <th>median_age</th>\n",
       "      <th>aged_65_older</th>\n",
       "      <th>aged_70_older</th>\n",
       "      <th>gdp_per_capita</th>\n",
       "      <th>extreme_poverty</th>\n",
       "      <th>cardiovasc_death_rate</th>\n",
       "      <th>diabetes_prevalence</th>\n",
       "      <th>female_smokers</th>\n",
       "      <th>male_smokers</th>\n",
       "      <th>handwashing_facilities</th>\n",
       "      <th>hospital_beds_per_thousand</th>\n",
       "      <th>life_expectancy</th>\n",
       "    </tr>\n",
       "  </thead>\n",
       "  <tbody>\n",
       "    <tr>\n",
       "      <th>14956</th>\n",
       "      <td>IND</td>\n",
       "      <td>Asia</td>\n",
       "      <td>India</td>\n",
       "      <td>2019-12-31</td>\n",
       "      <td>0.0</td>\n",
       "      <td>0.0</td>\n",
       "      <td>0.0</td>\n",
       "      <td>0.0</td>\n",
       "      <td>0.0</td>\n",
       "      <td>0.0</td>\n",
       "      <td>0.0</td>\n",
       "      <td>0.0</td>\n",
       "      <td>NaN</td>\n",
       "      <td>NaN</td>\n",
       "      <td>NaN</td>\n",
       "      <td>NaN</td>\n",
       "      <td>NaN</td>\n",
       "      <td>NaN</td>\n",
       "      <td>NaN</td>\n",
       "      <td>NaN</td>\n",
       "      <td>NaN</td>\n",
       "      <td>NaN</td>\n",
       "      <td>1.380004e+09</td>\n",
       "      <td>450.419</td>\n",
       "      <td>28.2</td>\n",
       "      <td>5.989</td>\n",
       "      <td>3.414</td>\n",
       "      <td>6426.674</td>\n",
       "      <td>21.2</td>\n",
       "      <td>282.28</td>\n",
       "      <td>10.39</td>\n",
       "      <td>1.9</td>\n",
       "      <td>20.6</td>\n",
       "      <td>59.55</td>\n",
       "      <td>0.53</td>\n",
       "      <td>69.66</td>\n",
       "    </tr>\n",
       "    <tr>\n",
       "      <th>14957</th>\n",
       "      <td>IND</td>\n",
       "      <td>Asia</td>\n",
       "      <td>India</td>\n",
       "      <td>2020-01-01</td>\n",
       "      <td>0.0</td>\n",
       "      <td>0.0</td>\n",
       "      <td>0.0</td>\n",
       "      <td>0.0</td>\n",
       "      <td>0.0</td>\n",
       "      <td>0.0</td>\n",
       "      <td>0.0</td>\n",
       "      <td>0.0</td>\n",
       "      <td>NaN</td>\n",
       "      <td>NaN</td>\n",
       "      <td>NaN</td>\n",
       "      <td>NaN</td>\n",
       "      <td>NaN</td>\n",
       "      <td>NaN</td>\n",
       "      <td>NaN</td>\n",
       "      <td>NaN</td>\n",
       "      <td>NaN</td>\n",
       "      <td>0.0</td>\n",
       "      <td>1.380004e+09</td>\n",
       "      <td>450.419</td>\n",
       "      <td>28.2</td>\n",
       "      <td>5.989</td>\n",
       "      <td>3.414</td>\n",
       "      <td>6426.674</td>\n",
       "      <td>21.2</td>\n",
       "      <td>282.28</td>\n",
       "      <td>10.39</td>\n",
       "      <td>1.9</td>\n",
       "      <td>20.6</td>\n",
       "      <td>59.55</td>\n",
       "      <td>0.53</td>\n",
       "      <td>69.66</td>\n",
       "    </tr>\n",
       "    <tr>\n",
       "      <th>14958</th>\n",
       "      <td>IND</td>\n",
       "      <td>Asia</td>\n",
       "      <td>India</td>\n",
       "      <td>2020-01-02</td>\n",
       "      <td>0.0</td>\n",
       "      <td>0.0</td>\n",
       "      <td>0.0</td>\n",
       "      <td>0.0</td>\n",
       "      <td>0.0</td>\n",
       "      <td>0.0</td>\n",
       "      <td>0.0</td>\n",
       "      <td>0.0</td>\n",
       "      <td>NaN</td>\n",
       "      <td>NaN</td>\n",
       "      <td>NaN</td>\n",
       "      <td>NaN</td>\n",
       "      <td>NaN</td>\n",
       "      <td>NaN</td>\n",
       "      <td>NaN</td>\n",
       "      <td>NaN</td>\n",
       "      <td>NaN</td>\n",
       "      <td>0.0</td>\n",
       "      <td>1.380004e+09</td>\n",
       "      <td>450.419</td>\n",
       "      <td>28.2</td>\n",
       "      <td>5.989</td>\n",
       "      <td>3.414</td>\n",
       "      <td>6426.674</td>\n",
       "      <td>21.2</td>\n",
       "      <td>282.28</td>\n",
       "      <td>10.39</td>\n",
       "      <td>1.9</td>\n",
       "      <td>20.6</td>\n",
       "      <td>59.55</td>\n",
       "      <td>0.53</td>\n",
       "      <td>69.66</td>\n",
       "    </tr>\n",
       "    <tr>\n",
       "      <th>14959</th>\n",
       "      <td>IND</td>\n",
       "      <td>Asia</td>\n",
       "      <td>India</td>\n",
       "      <td>2020-01-03</td>\n",
       "      <td>0.0</td>\n",
       "      <td>0.0</td>\n",
       "      <td>0.0</td>\n",
       "      <td>0.0</td>\n",
       "      <td>0.0</td>\n",
       "      <td>0.0</td>\n",
       "      <td>0.0</td>\n",
       "      <td>0.0</td>\n",
       "      <td>NaN</td>\n",
       "      <td>NaN</td>\n",
       "      <td>NaN</td>\n",
       "      <td>NaN</td>\n",
       "      <td>NaN</td>\n",
       "      <td>NaN</td>\n",
       "      <td>NaN</td>\n",
       "      <td>NaN</td>\n",
       "      <td>NaN</td>\n",
       "      <td>0.0</td>\n",
       "      <td>1.380004e+09</td>\n",
       "      <td>450.419</td>\n",
       "      <td>28.2</td>\n",
       "      <td>5.989</td>\n",
       "      <td>3.414</td>\n",
       "      <td>6426.674</td>\n",
       "      <td>21.2</td>\n",
       "      <td>282.28</td>\n",
       "      <td>10.39</td>\n",
       "      <td>1.9</td>\n",
       "      <td>20.6</td>\n",
       "      <td>59.55</td>\n",
       "      <td>0.53</td>\n",
       "      <td>69.66</td>\n",
       "    </tr>\n",
       "    <tr>\n",
       "      <th>14960</th>\n",
       "      <td>IND</td>\n",
       "      <td>Asia</td>\n",
       "      <td>India</td>\n",
       "      <td>2020-01-04</td>\n",
       "      <td>0.0</td>\n",
       "      <td>0.0</td>\n",
       "      <td>0.0</td>\n",
       "      <td>0.0</td>\n",
       "      <td>0.0</td>\n",
       "      <td>0.0</td>\n",
       "      <td>0.0</td>\n",
       "      <td>0.0</td>\n",
       "      <td>NaN</td>\n",
       "      <td>NaN</td>\n",
       "      <td>NaN</td>\n",
       "      <td>NaN</td>\n",
       "      <td>NaN</td>\n",
       "      <td>NaN</td>\n",
       "      <td>NaN</td>\n",
       "      <td>NaN</td>\n",
       "      <td>NaN</td>\n",
       "      <td>0.0</td>\n",
       "      <td>1.380004e+09</td>\n",
       "      <td>450.419</td>\n",
       "      <td>28.2</td>\n",
       "      <td>5.989</td>\n",
       "      <td>3.414</td>\n",
       "      <td>6426.674</td>\n",
       "      <td>21.2</td>\n",
       "      <td>282.28</td>\n",
       "      <td>10.39</td>\n",
       "      <td>1.9</td>\n",
       "      <td>20.6</td>\n",
       "      <td>59.55</td>\n",
       "      <td>0.53</td>\n",
       "      <td>69.66</td>\n",
       "    </tr>\n",
       "  </tbody>\n",
       "</table>\n",
       "</div>"
      ],
      "text/plain": [
       "      iso_code continent location        date  total_cases  new_cases  \\\n",
       "14956      IND      Asia    India  2019-12-31          0.0        0.0   \n",
       "14957      IND      Asia    India  2020-01-01          0.0        0.0   \n",
       "14958      IND      Asia    India  2020-01-02          0.0        0.0   \n",
       "14959      IND      Asia    India  2020-01-03          0.0        0.0   \n",
       "14960      IND      Asia    India  2020-01-04          0.0        0.0   \n",
       "\n",
       "       total_deaths  new_deaths  total_cases_per_million  \\\n",
       "14956           0.0         0.0                      0.0   \n",
       "14957           0.0         0.0                      0.0   \n",
       "14958           0.0         0.0                      0.0   \n",
       "14959           0.0         0.0                      0.0   \n",
       "14960           0.0         0.0                      0.0   \n",
       "\n",
       "       new_cases_per_million  total_deaths_per_million  \\\n",
       "14956                    0.0                       0.0   \n",
       "14957                    0.0                       0.0   \n",
       "14958                    0.0                       0.0   \n",
       "14959                    0.0                       0.0   \n",
       "14960                    0.0                       0.0   \n",
       "\n",
       "       new_deaths_per_million  new_tests  total_tests  \\\n",
       "14956                     0.0        NaN          NaN   \n",
       "14957                     0.0        NaN          NaN   \n",
       "14958                     0.0        NaN          NaN   \n",
       "14959                     0.0        NaN          NaN   \n",
       "14960                     0.0        NaN          NaN   \n",
       "\n",
       "       total_tests_per_thousand  new_tests_per_thousand  new_tests_smoothed  \\\n",
       "14956                       NaN                     NaN                 NaN   \n",
       "14957                       NaN                     NaN                 NaN   \n",
       "14958                       NaN                     NaN                 NaN   \n",
       "14959                       NaN                     NaN                 NaN   \n",
       "14960                       NaN                     NaN                 NaN   \n",
       "\n",
       "       new_tests_smoothed_per_thousand  tests_per_case  positive_rate  \\\n",
       "14956                              NaN             NaN            NaN   \n",
       "14957                              NaN             NaN            NaN   \n",
       "14958                              NaN             NaN            NaN   \n",
       "14959                              NaN             NaN            NaN   \n",
       "14960                              NaN             NaN            NaN   \n",
       "\n",
       "      tests_units  stringency_index    population  population_density  \\\n",
       "14956         NaN               NaN  1.380004e+09             450.419   \n",
       "14957         NaN               0.0  1.380004e+09             450.419   \n",
       "14958         NaN               0.0  1.380004e+09             450.419   \n",
       "14959         NaN               0.0  1.380004e+09             450.419   \n",
       "14960         NaN               0.0  1.380004e+09             450.419   \n",
       "\n",
       "       median_age  aged_65_older  aged_70_older  gdp_per_capita  \\\n",
       "14956        28.2          5.989          3.414        6426.674   \n",
       "14957        28.2          5.989          3.414        6426.674   \n",
       "14958        28.2          5.989          3.414        6426.674   \n",
       "14959        28.2          5.989          3.414        6426.674   \n",
       "14960        28.2          5.989          3.414        6426.674   \n",
       "\n",
       "       extreme_poverty  cardiovasc_death_rate  diabetes_prevalence  \\\n",
       "14956             21.2                 282.28                10.39   \n",
       "14957             21.2                 282.28                10.39   \n",
       "14958             21.2                 282.28                10.39   \n",
       "14959             21.2                 282.28                10.39   \n",
       "14960             21.2                 282.28                10.39   \n",
       "\n",
       "       female_smokers  male_smokers  handwashing_facilities  \\\n",
       "14956             1.9          20.6                   59.55   \n",
       "14957             1.9          20.6                   59.55   \n",
       "14958             1.9          20.6                   59.55   \n",
       "14959             1.9          20.6                   59.55   \n",
       "14960             1.9          20.6                   59.55   \n",
       "\n",
       "       hospital_beds_per_thousand  life_expectancy  \n",
       "14956                        0.53            69.66  \n",
       "14957                        0.53            69.66  \n",
       "14958                        0.53            69.66  \n",
       "14959                        0.53            69.66  \n",
       "14960                        0.53            69.66  "
      ]
     },
     "execution_count": 4,
     "metadata": {},
     "output_type": "execute_result"
    }
   ],
   "source": [
    "df=df[df['location']=='India']\n",
    "df.head()"
   ]
  },
  {
   "cell_type": "markdown",
   "metadata": {},
   "source": [
    "# Checking for null values in dataset."
   ]
  },
  {
   "cell_type": "code",
   "execution_count": 5,
   "metadata": {},
   "outputs": [
    {
     "name": "stdout",
     "output_type": "stream",
     "text": [
      "<class 'pandas.core.frame.DataFrame'>\n",
      "Int64Index: 222 entries, 14956 to 15177\n",
      "Data columns (total 36 columns):\n",
      " #   Column                           Non-Null Count  Dtype  \n",
      "---  ------                           --------------  -----  \n",
      " 0   iso_code                         222 non-null    object \n",
      " 1   continent                        222 non-null    object \n",
      " 2   location                         222 non-null    object \n",
      " 3   date                             222 non-null    object \n",
      " 4   total_cases                      222 non-null    float64\n",
      " 5   new_cases                        222 non-null    float64\n",
      " 6   total_deaths                     222 non-null    float64\n",
      " 7   new_deaths                       222 non-null    float64\n",
      " 8   total_cases_per_million          222 non-null    float64\n",
      " 9   new_cases_per_million            222 non-null    float64\n",
      " 10  total_deaths_per_million         222 non-null    float64\n",
      " 11  new_deaths_per_million           222 non-null    float64\n",
      " 12  new_tests                        130 non-null    float64\n",
      " 13  total_tests                      136 non-null    float64\n",
      " 14  total_tests_per_thousand         136 non-null    float64\n",
      " 15  new_tests_per_thousand           130 non-null    float64\n",
      " 16  new_tests_smoothed               141 non-null    float64\n",
      " 17  new_tests_smoothed_per_thousand  141 non-null    float64\n",
      " 18  tests_per_case                   141 non-null    float64\n",
      " 19  positive_rate                    141 non-null    float64\n",
      " 20  tests_units                      148 non-null    object \n",
      " 21  stringency_index                 219 non-null    float64\n",
      " 22  population                       222 non-null    float64\n",
      " 23  population_density               222 non-null    float64\n",
      " 24  median_age                       222 non-null    float64\n",
      " 25  aged_65_older                    222 non-null    float64\n",
      " 26  aged_70_older                    222 non-null    float64\n",
      " 27  gdp_per_capita                   222 non-null    float64\n",
      " 28  extreme_poverty                  222 non-null    float64\n",
      " 29  cardiovasc_death_rate            222 non-null    float64\n",
      " 30  diabetes_prevalence              222 non-null    float64\n",
      " 31  female_smokers                   222 non-null    float64\n",
      " 32  male_smokers                     222 non-null    float64\n",
      " 33  handwashing_facilities           222 non-null    float64\n",
      " 34  hospital_beds_per_thousand       222 non-null    float64\n",
      " 35  life_expectancy                  222 non-null    float64\n",
      "dtypes: float64(31), object(5)\n",
      "memory usage: 64.2+ KB\n"
     ]
    }
   ],
   "source": [
    "df.info()"
   ]
  },
  {
   "cell_type": "code",
   "execution_count": 6,
   "metadata": {},
   "outputs": [
    {
     "data": {
      "text/plain": [
       "iso_code                            0\n",
       "continent                           0\n",
       "location                            0\n",
       "date                                0\n",
       "total_cases                         0\n",
       "new_cases                           0\n",
       "total_deaths                        0\n",
       "new_deaths                          0\n",
       "total_cases_per_million             0\n",
       "new_cases_per_million               0\n",
       "total_deaths_per_million            0\n",
       "new_deaths_per_million              0\n",
       "new_tests                          92\n",
       "total_tests                        86\n",
       "total_tests_per_thousand           86\n",
       "new_tests_per_thousand             92\n",
       "new_tests_smoothed                 81\n",
       "new_tests_smoothed_per_thousand    81\n",
       "tests_per_case                     81\n",
       "positive_rate                      81\n",
       "tests_units                        74\n",
       "stringency_index                    3\n",
       "population                          0\n",
       "population_density                  0\n",
       "median_age                          0\n",
       "aged_65_older                       0\n",
       "aged_70_older                       0\n",
       "gdp_per_capita                      0\n",
       "extreme_poverty                     0\n",
       "cardiovasc_death_rate               0\n",
       "diabetes_prevalence                 0\n",
       "female_smokers                      0\n",
       "male_smokers                        0\n",
       "handwashing_facilities              0\n",
       "hospital_beds_per_thousand          0\n",
       "life_expectancy                     0\n",
       "dtype: int64"
      ]
     },
     "execution_count": 6,
     "metadata": {},
     "output_type": "execute_result"
    }
   ],
   "source": [
    "df.isna().sum()"
   ]
  },
  {
   "cell_type": "markdown",
   "metadata": {},
   "source": [
    "From above we can see that no column has more than 50% null values in them.So we dont need to drop any columns."
   ]
  },
  {
   "cell_type": "code",
   "execution_count": 7,
   "metadata": {},
   "outputs": [],
   "source": [
    "pd.set_option('display.max_columns', 36)"
   ]
  },
  {
   "cell_type": "markdown",
   "metadata": {},
   "source": [
    "# Filling the null values of the columns of datasets with suitable values."
   ]
  },
  {
   "cell_type": "code",
   "execution_count": 8,
   "metadata": {},
   "outputs": [],
   "source": [
    "df['new_tests'].fillna(df['new_tests'].mean(),inplace=True)"
   ]
  },
  {
   "cell_type": "code",
   "execution_count": 9,
   "metadata": {},
   "outputs": [],
   "source": [
    "df['total_tests'].fillna(df['total_tests'].mean(),inplace=True)"
   ]
  },
  {
   "cell_type": "code",
   "execution_count": 10,
   "metadata": {},
   "outputs": [],
   "source": [
    "df['total_tests_per_thousand'].fillna(df['total_tests_per_thousand'].mean(),inplace=True)"
   ]
  },
  {
   "cell_type": "code",
   "execution_count": 11,
   "metadata": {},
   "outputs": [],
   "source": [
    "df['new_tests_per_thousand'].fillna(df['new_tests_per_thousand'].mean(),inplace=True)"
   ]
  },
  {
   "cell_type": "code",
   "execution_count": 12,
   "metadata": {},
   "outputs": [],
   "source": [
    "df['new_tests_smoothed'].fillna(df['new_tests_smoothed'].mean(),inplace=True)"
   ]
  },
  {
   "cell_type": "code",
   "execution_count": 13,
   "metadata": {},
   "outputs": [],
   "source": [
    "df['new_tests_smoothed_per_thousand'].fillna(df['new_tests_smoothed_per_thousand'].mean(),inplace=True)"
   ]
  },
  {
   "cell_type": "code",
   "execution_count": 14,
   "metadata": {},
   "outputs": [],
   "source": [
    "df['tests_per_case'].fillna(df['tests_per_case'].mean(),inplace=True)"
   ]
  },
  {
   "cell_type": "code",
   "execution_count": 15,
   "metadata": {},
   "outputs": [],
   "source": [
    "df['positive_rate'].fillna(df['positive_rate'].mean(),inplace=True)"
   ]
  },
  {
   "cell_type": "code",
   "execution_count": 16,
   "metadata": {},
   "outputs": [],
   "source": [
    "x=df['stringency_index'].mode()\n",
    "df['stringency_index'].fillna(x[0],inplace=True)"
   ]
  },
  {
   "cell_type": "code",
   "execution_count": 17,
   "metadata": {},
   "outputs": [],
   "source": [
    "df['tests_units'].fillna(df['tests_units'].mode()[0],inplace=True)"
   ]
  },
  {
   "cell_type": "markdown",
   "metadata": {},
   "source": [
    "# Univariate Analysis "
   ]
  },
  {
   "cell_type": "markdown",
   "metadata": {},
   "source": [
    "# a)Plotting Histograms for the dataset"
   ]
  },
  {
   "cell_type": "code",
   "execution_count": 18,
   "metadata": {},
   "outputs": [
    {
     "data": {
      "text/plain": [
       "Index(['iso_code', 'continent', 'location', 'date', 'total_cases', 'new_cases',\n",
       "       'total_deaths', 'new_deaths', 'total_cases_per_million',\n",
       "       'new_cases_per_million', 'total_deaths_per_million',\n",
       "       'new_deaths_per_million', 'new_tests', 'total_tests',\n",
       "       'total_tests_per_thousand', 'new_tests_per_thousand',\n",
       "       'new_tests_smoothed', 'new_tests_smoothed_per_thousand',\n",
       "       'tests_per_case', 'positive_rate', 'tests_units', 'stringency_index',\n",
       "       'population', 'population_density', 'median_age', 'aged_65_older',\n",
       "       'aged_70_older', 'gdp_per_capita', 'extreme_poverty',\n",
       "       'cardiovasc_death_rate', 'diabetes_prevalence', 'female_smokers',\n",
       "       'male_smokers', 'handwashing_facilities', 'hospital_beds_per_thousand',\n",
       "       'life_expectancy'],\n",
       "      dtype='object')"
      ]
     },
     "execution_count": 18,
     "metadata": {},
     "output_type": "execute_result"
    }
   ],
   "source": [
    "df.columns"
   ]
  },
  {
   "cell_type": "code",
   "execution_count": 19,
   "metadata": {},
   "outputs": [
    {
     "data": {
      "image/png": "[encoded data removed]",
      "text/plain": [
       "<Figure size 432x288 with 1 Axes>"
      ]
     },
     "metadata": {
      "needs_background": "light"
     },
     "output_type": "display_data"
    }
   ],
   "source": [
    "plt.grid()\n",
    "plt.hist(df['total_cases'],ec='black',alpha=0.5,bins=5)\n",
    "plt.xlabel('Total Cases in India(per day)')\n",
    "plt.ylabel('Frequency(Days)')\n",
    "plt.title(\"Frequency of total cases in India\")\n",
    "plt.show()"
   ]
  },
  {
   "cell_type": "markdown",
   "metadata": {},
   "source": [
    "From the above graph we can say that for most of the days in india,the total case were below or equal to 25k ,but the cases started increasing."
   ]
  },
  {
   "cell_type": "code",
   "execution_count": 20,
   "metadata": {},
   "outputs": [
    {
     "data": {
      "image/png": "[encoded data removed]",
      "text/plain": [
       "<Figure size 432x288 with 1 Axes>"
      ]
     },
     "metadata": {
      "needs_background": "light"
     },
     "output_type": "display_data"
    }
   ],
   "source": [
    "plt.grid()\n",
    "plt.hist(df['new_cases'],ec='black',alpha=0.5,bins=6)\n",
    "plt.xlabel('New Cases in India(per day)')\n",
    "plt.ylabel('Frequency(Days)')\n",
    "plt.title(\"Frequency of new cases in India\")\n",
    "plt.show()"
   ]
  },
  {
   "cell_type": "markdown",
   "metadata": {},
   "source": [
    "From the above graph we can say that the new cases per day,we mostly between 0-10k but it went to max of about around 60k."
   ]
  },
  {
   "cell_type": "code",
   "execution_count": 21,
   "metadata": {},
   "outputs": [
    {
     "data": {
      "image/png": "[encoded data removed]",
      "text/plain": [
       "<Figure size 432x288 with 1 Axes>"
      ]
     },
     "metadata": {
      "needs_background": "light"
     },
     "output_type": "display_data"
    }
   ],
   "source": [
    "plt.grid()\n",
    "plt.hist(df['total_deaths'],ec='black',alpha=0.5,bins=6)\n",
    "plt.xlabel('Total in India(per day)')\n",
    "plt.ylabel('Frequency(Days)')\n",
    "plt.title(\"Frequency of total deaths in India\")\n",
    "plt.show()"
   ]
  },
  {
   "cell_type": "markdown",
   "metadata": {},
   "source": [
    "Most of the deaths in India per day we bwtween 0-5000."
   ]
  },
  {
   "cell_type": "code",
   "execution_count": 22,
   "metadata": {},
   "outputs": [
    {
     "data": {
      "image/png": "[encoded data removed]",
      "text/plain": [
       "<Figure size 432x288 with 1 Axes>"
      ]
     },
     "metadata": {
      "needs_background": "light"
     },
     "output_type": "display_data"
    }
   ],
   "source": [
    "plt.grid()\n",
    "plt.hist(df['positive_rate'],ec='black',alpha=0.5,bins=6)\n",
    "plt.xlabel('Positive rate')\n",
    "plt.ylabel('Frequency(Days)')\n",
    "plt.title(\"Positive rate in India\")\n",
    "plt.show()"
   ]
  },
  {
   "cell_type": "markdown",
   "metadata": {},
   "source": [
    "The highest positive rate achieved was around 12% and most of the days it was around 6%."
   ]
  },
  {
   "cell_type": "code",
   "execution_count": 23,
   "metadata": {},
   "outputs": [
    {
     "data": {
      "image/png": "[encoded data removed]",
      "text/plain": [
       "<Figure size 432x288 with 1 Axes>"
      ]
     },
     "metadata": {
      "needs_background": "light"
     },
     "output_type": "display_data"
    }
   ],
   "source": [
    "plt.grid()\n",
    "plt.hist(df['life_expectancy'],ec='black',alpha=0.5)\n",
    "plt.xlabel('Life_Expectancy')\n",
    "plt.ylabel('Frequency(Days)')\n",
    "plt.title(\"Life_Expectancy in India\")\n",
    "plt.show()"
   ]
  },
  {
   "cell_type": "code",
   "execution_count": 24,
   "metadata": {},
   "outputs": [
    {
     "data": {
      "image/png": "[encoded data removed]",
      "text/plain": [
       "<Figure size 432x288 with 1 Axes>"
      ]
     },
     "metadata": {
      "needs_background": "light"
     },
     "output_type": "display_data"
    }
   ],
   "source": [
    "plt.grid()\n",
    "plt.hist(df['stringency_index'],ec='black',alpha=0.5)\n",
    "plt.xlabel('Stringency_index')\n",
    "plt.ylabel('Frequency(Days)')\n",
    "plt.title(\"Stringency_index in India\")\n",
    "plt.show()"
   ]
  },
  {
   "cell_type": "code",
   "execution_count": 25,
   "metadata": {},
   "outputs": [
    {
     "data": {
      "image/png": "[encoded data removed]",
      "text/plain": [
       "<Figure size 432x288 with 1 Axes>"
      ]
     },
     "metadata": {
      "needs_background": "light"
     },
     "output_type": "display_data"
    }
   ],
   "source": [
    "plt.grid()\n",
    "plt.hist(df['total_tests'],ec='black',alpha=0.5)\n",
    "plt.xlabel('total_tests')\n",
    "plt.ylabel('Frequency(Days)')\n",
    "plt.title(\"Total tests in India\")\n",
    "plt.show()"
   ]
  },
  {
   "cell_type": "code",
   "execution_count": 26,
   "metadata": {},
   "outputs": [
    {
     "data": {
      "image/png": "[encoded data removed]",
      "text/plain": [
       "<Figure size 432x288 with 1 Axes>"
      ]
     },
     "metadata": {
      "needs_background": "light"
     },
     "output_type": "display_data"
    }
   ],
   "source": [
    "plt.grid()\n",
    "plt.hist(df['new_tests'],ec='black',alpha=0.5)\n",
    "plt.xlabel('New tests')\n",
    "plt.ylabel('Frequency(Days)')\n",
    "plt.title(\"New Tests in India\")\n",
    "plt.show()"
   ]
  },
  {
   "cell_type": "markdown",
   "metadata": {},
   "source": [
    "We mostly have 15k-20k cases per day and max is 60k-65k cases."
   ]
  },
  {
   "cell_type": "code",
   "execution_count": 27,
   "metadata": {},
   "outputs": [
    {
     "data": {
      "image/png": "[encoded data removed]",
      "text/plain": [
       "<Figure size 432x288 with 1 Axes>"
      ]
     },
     "metadata": {
      "needs_background": "light"
     },
     "output_type": "display_data"
    }
   ],
   "source": [
    "plt.grid()\n",
    "plt.hist(df['new_tests_smoothed_per_thousand'],ec='black',alpha=0.5)\n",
    "plt.xlabel('new_tests_smoothed_per_thousand')\n",
    "plt.ylabel('Frequency(Days)')\n",
    "plt.title(\"New_tests_smoothed_per_thousand in India\")\n",
    "plt.show()"
   ]
  },
  {
   "cell_type": "code",
   "execution_count": 28,
   "metadata": {},
   "outputs": [
    {
     "data": {
      "image/png": "[encoded data removed]",
      "text/plain": [
       "<Figure size 432x288 with 1 Axes>"
      ]
     },
     "metadata": {
      "needs_background": "light"
     },
     "output_type": "display_data"
    }
   ],
   "source": [
    "plt.grid()\n",
    "plt.hist(df['tests_per_case'],ec='black',alpha=0.5)\n",
    "plt.xlabel('tests_per_case')\n",
    "plt.ylabel('Frequency(Days)')\n",
    "plt.title(\"Tests_per_case in India\")\n",
    "plt.show()"
   ]
  },
  {
   "cell_type": "markdown",
   "metadata": {},
   "source": [
    "There is maximum of 15-20 test going for one case."
   ]
  },
  {
   "cell_type": "markdown",
   "metadata": {},
   "source": [
    "# b)Mean ,Median ,Mode of the all columns in dataset"
   ]
  },
  {
   "cell_type": "code",
   "execution_count": 29,
   "metadata": {},
   "outputs": [
    {
     "data": {
      "text/html": [
       "<div>\n",
       "<style scoped>\n",
       "    .dataframe tbody tr th:only-of-type {\n",
       "        vertical-align: middle;\n",
       "    }\n",
       "\n",
       "    .dataframe tbody tr th {\n",
       "        vertical-align: top;\n",
       "    }\n",
       "\n",
       "    .dataframe thead th {\n",
       "        text-align: right;\n",
       "    }\n",
       "</style>\n",
       "<table border=\"1\" class=\"dataframe\">\n",
       "  <thead>\n",
       "    <tr style=\"text-align: right;\">\n",
       "      <th></th>\n",
       "      <th>total_cases</th>\n",
       "      <th>new_cases</th>\n",
       "      <th>total_deaths</th>\n",
       "      <th>new_deaths</th>\n",
       "      <th>total_cases_per_million</th>\n",
       "      <th>new_cases_per_million</th>\n",
       "      <th>total_deaths_per_million</th>\n",
       "      <th>new_deaths_per_million</th>\n",
       "      <th>new_tests</th>\n",
       "      <th>total_tests</th>\n",
       "      <th>total_tests_per_thousand</th>\n",
       "      <th>new_tests_per_thousand</th>\n",
       "      <th>new_tests_smoothed</th>\n",
       "      <th>new_tests_smoothed_per_thousand</th>\n",
       "      <th>tests_per_case</th>\n",
       "      <th>positive_rate</th>\n",
       "      <th>stringency_index</th>\n",
       "      <th>population</th>\n",
       "      <th>population_density</th>\n",
       "      <th>median_age</th>\n",
       "      <th>aged_65_older</th>\n",
       "      <th>aged_70_older</th>\n",
       "      <th>gdp_per_capita</th>\n",
       "      <th>extreme_poverty</th>\n",
       "      <th>cardiovasc_death_rate</th>\n",
       "      <th>diabetes_prevalence</th>\n",
       "      <th>female_smokers</th>\n",
       "      <th>male_smokers</th>\n",
       "      <th>handwashing_facilities</th>\n",
       "      <th>hospital_beds_per_thousand</th>\n",
       "      <th>life_expectancy</th>\n",
       "    </tr>\n",
       "  </thead>\n",
       "  <tbody>\n",
       "    <tr>\n",
       "      <th>count</th>\n",
       "      <td>2.220000e+02</td>\n",
       "      <td>222.000000</td>\n",
       "      <td>222.000000</td>\n",
       "      <td>222.000000</td>\n",
       "      <td>222.000000</td>\n",
       "      <td>222.000000</td>\n",
       "      <td>222.000000</td>\n",
       "      <td>222.000000</td>\n",
       "      <td>222.000000</td>\n",
       "      <td>2.220000e+02</td>\n",
       "      <td>222.000000</td>\n",
       "      <td>222.000000</td>\n",
       "      <td>222.000000</td>\n",
       "      <td>222.000000</td>\n",
       "      <td>222.000000</td>\n",
       "      <td>222.000000</td>\n",
       "      <td>222.000000</td>\n",
       "      <td>2.220000e+02</td>\n",
       "      <td>2.220000e+02</td>\n",
       "      <td>2.220000e+02</td>\n",
       "      <td>2.220000e+02</td>\n",
       "      <td>2.220000e+02</td>\n",
       "      <td>2.220000e+02</td>\n",
       "      <td>2.220000e+02</td>\n",
       "      <td>2.220000e+02</td>\n",
       "      <td>2.220000e+02</td>\n",
       "      <td>2.220000e+02</td>\n",
       "      <td>2.220000e+02</td>\n",
       "      <td>2.220000e+02</td>\n",
       "      <td>2.220000e+02</td>\n",
       "      <td>2.220000e+02</td>\n",
       "    </tr>\n",
       "    <tr>\n",
       "      <th>mean</th>\n",
       "      <td>2.833080e+05</td>\n",
       "      <td>9698.243243</td>\n",
       "      <td>7095.319820</td>\n",
       "      <td>195.400901</td>\n",
       "      <td>205.294910</td>\n",
       "      <td>7.027685</td>\n",
       "      <td>5.141523</td>\n",
       "      <td>0.141586</td>\n",
       "      <td>174257.730769</td>\n",
       "      <td>5.955752e+06</td>\n",
       "      <td>4.315772</td>\n",
       "      <td>0.126292</td>\n",
       "      <td>148528.907801</td>\n",
       "      <td>0.107624</td>\n",
       "      <td>18.192177</td>\n",
       "      <td>0.066007</td>\n",
       "      <td>57.608514</td>\n",
       "      <td>1.380004e+09</td>\n",
       "      <td>4.504190e+02</td>\n",
       "      <td>2.820000e+01</td>\n",
       "      <td>5.989000e+00</td>\n",
       "      <td>3.414000e+00</td>\n",
       "      <td>6.426674e+03</td>\n",
       "      <td>2.120000e+01</td>\n",
       "      <td>2.822800e+02</td>\n",
       "      <td>1.039000e+01</td>\n",
       "      <td>1.900000e+00</td>\n",
       "      <td>2.060000e+01</td>\n",
       "      <td>5.955000e+01</td>\n",
       "      <td>5.300000e-01</td>\n",
       "      <td>6.966000e+01</td>\n",
       "    </tr>\n",
       "    <tr>\n",
       "      <th>std</th>\n",
       "      <td>5.005131e+05</td>\n",
       "      <td>15875.342045</td>\n",
       "      <td>11370.598507</td>\n",
       "      <td>287.268186</td>\n",
       "      <td>362.689537</td>\n",
       "      <td>11.503810</td>\n",
       "      <td>8.239530</td>\n",
       "      <td>0.208143</td>\n",
       "      <td>120167.075064</td>\n",
       "      <td>4.827524e+06</td>\n",
       "      <td>3.498166</td>\n",
       "      <td>0.087120</td>\n",
       "      <td>111865.214333</td>\n",
       "      <td>0.081054</td>\n",
       "      <td>6.822755</td>\n",
       "      <td>0.021494</td>\n",
       "      <td>36.615863</td>\n",
       "      <td>0.000000e+00</td>\n",
       "      <td>1.196409e-12</td>\n",
       "      <td>1.103830e-13</td>\n",
       "      <td>1.513316e-14</td>\n",
       "      <td>9.792042e-15</td>\n",
       "      <td>3.099270e-11</td>\n",
       "      <td>8.545782e-14</td>\n",
       "      <td>7.976063e-13</td>\n",
       "      <td>2.492520e-14</td>\n",
       "      <td>6.453846e-15</td>\n",
       "      <td>1.780371e-14</td>\n",
       "      <td>1.922801e-13</td>\n",
       "      <td>8.901856e-16</td>\n",
       "      <td>1.139438e-13</td>\n",
       "    </tr>\n",
       "    <tr>\n",
       "      <th>min</th>\n",
       "      <td>0.000000e+00</td>\n",
       "      <td>0.000000</td>\n",
       "      <td>0.000000</td>\n",
       "      <td>0.000000</td>\n",
       "      <td>0.000000</td>\n",
       "      <td>0.000000</td>\n",
       "      <td>0.000000</td>\n",
       "      <td>0.000000</td>\n",
       "      <td>157.000000</td>\n",
       "      <td>6.500000e+03</td>\n",
       "      <td>0.005000</td>\n",
       "      <td>0.000000</td>\n",
       "      <td>1121.000000</td>\n",
       "      <td>0.001000</td>\n",
       "      <td>8.101000</td>\n",
       "      <td>0.015000</td>\n",
       "      <td>0.000000</td>\n",
       "      <td>1.380004e+09</td>\n",
       "      <td>4.504190e+02</td>\n",
       "      <td>2.820000e+01</td>\n",
       "      <td>5.989000e+00</td>\n",
       "      <td>3.414000e+00</td>\n",
       "      <td>6.426674e+03</td>\n",
       "      <td>2.120000e+01</td>\n",
       "      <td>2.822800e+02</td>\n",
       "      <td>1.039000e+01</td>\n",
       "      <td>1.900000e+00</td>\n",
       "      <td>2.060000e+01</td>\n",
       "      <td>5.955000e+01</td>\n",
       "      <td>5.300000e-01</td>\n",
       "      <td>6.966000e+01</td>\n",
       "    </tr>\n",
       "    <tr>\n",
       "      <th>25%</th>\n",
       "      <td>3.000000e+00</td>\n",
       "      <td>0.000000</td>\n",
       "      <td>0.000000</td>\n",
       "      <td>0.000000</td>\n",
       "      <td>0.002000</td>\n",
       "      <td>0.000000</td>\n",
       "      <td>0.000000</td>\n",
       "      <td>0.000000</td>\n",
       "      <td>108066.250000</td>\n",
       "      <td>2.431297e+06</td>\n",
       "      <td>1.761750</td>\n",
       "      <td>0.078000</td>\n",
       "      <td>84680.500000</td>\n",
       "      <td>0.061250</td>\n",
       "      <td>13.642000</td>\n",
       "      <td>0.047000</td>\n",
       "      <td>10.190000</td>\n",
       "      <td>1.380004e+09</td>\n",
       "      <td>4.504190e+02</td>\n",
       "      <td>2.820000e+01</td>\n",
       "      <td>5.989000e+00</td>\n",
       "      <td>3.414000e+00</td>\n",
       "      <td>6.426674e+03</td>\n",
       "      <td>2.120000e+01</td>\n",
       "      <td>2.822800e+02</td>\n",
       "      <td>1.039000e+01</td>\n",
       "      <td>1.900000e+00</td>\n",
       "      <td>2.060000e+01</td>\n",
       "      <td>5.955000e+01</td>\n",
       "      <td>5.300000e-01</td>\n",
       "      <td>6.966000e+01</td>\n",
       "    </tr>\n",
       "    <tr>\n",
       "      <th>50%</th>\n",
       "      <td>1.793250e+04</td>\n",
       "      <td>1359.500000</td>\n",
       "      <td>566.500000</td>\n",
       "      <td>40.500000</td>\n",
       "      <td>12.994500</td>\n",
       "      <td>0.985000</td>\n",
       "      <td>0.410500</td>\n",
       "      <td>0.029500</td>\n",
       "      <td>174257.730769</td>\n",
       "      <td>5.955752e+06</td>\n",
       "      <td>4.315772</td>\n",
       "      <td>0.126292</td>\n",
       "      <td>148528.907801</td>\n",
       "      <td>0.107624</td>\n",
       "      <td>18.192177</td>\n",
       "      <td>0.066007</td>\n",
       "      <td>76.390000</td>\n",
       "      <td>1.380004e+09</td>\n",
       "      <td>4.504190e+02</td>\n",
       "      <td>2.820000e+01</td>\n",
       "      <td>5.989000e+00</td>\n",
       "      <td>3.414000e+00</td>\n",
       "      <td>6.426674e+03</td>\n",
       "      <td>2.120000e+01</td>\n",
       "      <td>2.822800e+02</td>\n",
       "      <td>1.039000e+01</td>\n",
       "      <td>1.900000e+00</td>\n",
       "      <td>2.060000e+01</td>\n",
       "      <td>5.955000e+01</td>\n",
       "      <td>5.300000e-01</td>\n",
       "      <td>6.966000e+01</td>\n",
       "    </tr>\n",
       "    <tr>\n",
       "      <th>75%</th>\n",
       "      <td>3.295485e+05</td>\n",
       "      <td>11337.000000</td>\n",
       "      <td>9438.750000</td>\n",
       "      <td>333.250000</td>\n",
       "      <td>238.802250</td>\n",
       "      <td>8.215250</td>\n",
       "      <td>6.840000</td>\n",
       "      <td>0.241500</td>\n",
       "      <td>174257.730769</td>\n",
       "      <td>5.955752e+06</td>\n",
       "      <td>4.315772</td>\n",
       "      <td>0.126292</td>\n",
       "      <td>148528.907801</td>\n",
       "      <td>0.107624</td>\n",
       "      <td>21.294000</td>\n",
       "      <td>0.073500</td>\n",
       "      <td>81.940000</td>\n",
       "      <td>1.380004e+09</td>\n",
       "      <td>4.504190e+02</td>\n",
       "      <td>2.820000e+01</td>\n",
       "      <td>5.989000e+00</td>\n",
       "      <td>3.414000e+00</td>\n",
       "      <td>6.426674e+03</td>\n",
       "      <td>2.120000e+01</td>\n",
       "      <td>2.822800e+02</td>\n",
       "      <td>1.039000e+01</td>\n",
       "      <td>1.900000e+00</td>\n",
       "      <td>2.060000e+01</td>\n",
       "      <td>5.955000e+01</td>\n",
       "      <td>5.300000e-01</td>\n",
       "      <td>6.966000e+01</td>\n",
       "    </tr>\n",
       "    <tr>\n",
       "      <th>max</th>\n",
       "      <td>2.153010e+06</td>\n",
       "      <td>64399.000000</td>\n",
       "      <td>43379.000000</td>\n",
       "      <td>2003.000000</td>\n",
       "      <td>1560.147000</td>\n",
       "      <td>46.666000</td>\n",
       "      <td>31.434000</td>\n",
       "      <td>1.451000</td>\n",
       "      <td>664949.000000</td>\n",
       "      <td>2.278839e+07</td>\n",
       "      <td>16.513000</td>\n",
       "      <td>0.482000</td>\n",
       "      <td>565567.000000</td>\n",
       "      <td>0.410000</td>\n",
       "      <td>67.888000</td>\n",
       "      <td>0.123000</td>\n",
       "      <td>100.000000</td>\n",
       "      <td>1.380004e+09</td>\n",
       "      <td>4.504190e+02</td>\n",
       "      <td>2.820000e+01</td>\n",
       "      <td>5.989000e+00</td>\n",
       "      <td>3.414000e+00</td>\n",
       "      <td>6.426674e+03</td>\n",
       "      <td>2.120000e+01</td>\n",
       "      <td>2.822800e+02</td>\n",
       "      <td>1.039000e+01</td>\n",
       "      <td>1.900000e+00</td>\n",
       "      <td>2.060000e+01</td>\n",
       "      <td>5.955000e+01</td>\n",
       "      <td>5.300000e-01</td>\n",
       "      <td>6.966000e+01</td>\n",
       "    </tr>\n",
       "  </tbody>\n",
       "</table>\n",
       "</div>"
      ],
      "text/plain": [
       "        total_cases     new_cases  total_deaths   new_deaths  \\\n",
       "count  2.220000e+02    222.000000    222.000000   222.000000   \n",
       "mean   2.833080e+05   9698.243243   7095.319820   195.400901   \n",
       "std    5.005131e+05  15875.342045  11370.598507   287.268186   \n",
       "min    0.000000e+00      0.000000      0.000000     0.000000   \n",
       "25%    3.000000e+00      0.000000      0.000000     0.000000   \n",
       "50%    1.793250e+04   1359.500000    566.500000    40.500000   \n",
       "75%    3.295485e+05  11337.000000   9438.750000   333.250000   \n",
       "max    2.153010e+06  64399.000000  43379.000000  2003.000000   \n",
       "\n",
       "       total_cases_per_million  new_cases_per_million  \\\n",
       "count               222.000000             222.000000   \n",
       "mean                205.294910               7.027685   \n",
       "std                 362.689537              11.503810   \n",
       "min                   0.000000               0.000000   \n",
       "25%                   0.002000               0.000000   \n",
       "50%                  12.994500               0.985000   \n",
       "75%                 238.802250               8.215250   \n",
       "max                1560.147000              46.666000   \n",
       "\n",
       "       total_deaths_per_million  new_deaths_per_million      new_tests  \\\n",
       "count                222.000000              222.000000     222.000000   \n",
       "mean                   5.141523                0.141586  174257.730769   \n",
       "std                    8.239530                0.208143  120167.075064   \n",
       "min                    0.000000                0.000000     157.000000   \n",
       "25%                    0.000000                0.000000  108066.250000   \n",
       "50%                    0.410500                0.029500  174257.730769   \n",
       "75%                    6.840000                0.241500  174257.730769   \n",
       "max                   31.434000                1.451000  664949.000000   \n",
       "\n",
       "        total_tests  total_tests_per_thousand  new_tests_per_thousand  \\\n",
       "count  2.220000e+02                222.000000              222.000000   \n",
       "mean   5.955752e+06                  4.315772                0.126292   \n",
       "std    4.827524e+06                  3.498166                0.087120   \n",
       "min    6.500000e+03                  0.005000                0.000000   \n",
       "25%    2.431297e+06                  1.761750                0.078000   \n",
       "50%    5.955752e+06                  4.315772                0.126292   \n",
       "75%    5.955752e+06                  4.315772                0.126292   \n",
       "max    2.278839e+07                 16.513000                0.482000   \n",
       "\n",
       "       new_tests_smoothed  new_tests_smoothed_per_thousand  tests_per_case  \\\n",
       "count          222.000000                       222.000000      222.000000   \n",
       "mean        148528.907801                         0.107624       18.192177   \n",
       "std         111865.214333                         0.081054        6.822755   \n",
       "min           1121.000000                         0.001000        8.101000   \n",
       "25%          84680.500000                         0.061250       13.642000   \n",
       "50%         148528.907801                         0.107624       18.192177   \n",
       "75%         148528.907801                         0.107624       21.294000   \n",
       "max         565567.000000                         0.410000       67.888000   \n",
       "\n",
       "       positive_rate  stringency_index    population  population_density  \\\n",
       "count     222.000000        222.000000  2.220000e+02        2.220000e+02   \n",
       "mean        0.066007         57.608514  1.380004e+09        4.504190e+02   \n",
       "std         0.021494         36.615863  0.000000e+00        1.196409e-12   \n",
       "min         0.015000          0.000000  1.380004e+09        4.504190e+02   \n",
       "25%         0.047000         10.190000  1.380004e+09        4.504190e+02   \n",
       "50%         0.066007         76.390000  1.380004e+09        4.504190e+02   \n",
       "75%         0.073500         81.940000  1.380004e+09        4.504190e+02   \n",
       "max         0.123000        100.000000  1.380004e+09        4.504190e+02   \n",
       "\n",
       "         median_age  aged_65_older  aged_70_older  gdp_per_capita  \\\n",
       "count  2.220000e+02   2.220000e+02   2.220000e+02    2.220000e+02   \n",
       "mean   2.820000e+01   5.989000e+00   3.414000e+00    6.426674e+03   \n",
       "std    1.103830e-13   1.513316e-14   9.792042e-15    3.099270e-11   \n",
       "min    2.820000e+01   5.989000e+00   3.414000e+00    6.426674e+03   \n",
       "25%    2.820000e+01   5.989000e+00   3.414000e+00    6.426674e+03   \n",
       "50%    2.820000e+01   5.989000e+00   3.414000e+00    6.426674e+03   \n",
       "75%    2.820000e+01   5.989000e+00   3.414000e+00    6.426674e+03   \n",
       "max    2.820000e+01   5.989000e+00   3.414000e+00    6.426674e+03   \n",
       "\n",
       "       extreme_poverty  cardiovasc_death_rate  diabetes_prevalence  \\\n",
       "count     2.220000e+02           2.220000e+02         2.220000e+02   \n",
       "mean      2.120000e+01           2.822800e+02         1.039000e+01   \n",
       "std       8.545782e-14           7.976063e-13         2.492520e-14   \n",
       "min       2.120000e+01           2.822800e+02         1.039000e+01   \n",
       "25%       2.120000e+01           2.822800e+02         1.039000e+01   \n",
       "50%       2.120000e+01           2.822800e+02         1.039000e+01   \n",
       "75%       2.120000e+01           2.822800e+02         1.039000e+01   \n",
       "max       2.120000e+01           2.822800e+02         1.039000e+01   \n",
       "\n",
       "       female_smokers  male_smokers  handwashing_facilities  \\\n",
       "count    2.220000e+02  2.220000e+02            2.220000e+02   \n",
       "mean     1.900000e+00  2.060000e+01            5.955000e+01   \n",
       "std      6.453846e-15  1.780371e-14            1.922801e-13   \n",
       "min      1.900000e+00  2.060000e+01            5.955000e+01   \n",
       "25%      1.900000e+00  2.060000e+01            5.955000e+01   \n",
       "50%      1.900000e+00  2.060000e+01            5.955000e+01   \n",
       "75%      1.900000e+00  2.060000e+01            5.955000e+01   \n",
       "max      1.900000e+00  2.060000e+01            5.955000e+01   \n",
       "\n",
       "       hospital_beds_per_thousand  life_expectancy  \n",
       "count                2.220000e+02     2.220000e+02  \n",
       "mean                 5.300000e-01     6.966000e+01  \n",
       "std                  8.901856e-16     1.139438e-13  \n",
       "min                  5.300000e-01     6.966000e+01  \n",
       "25%                  5.300000e-01     6.966000e+01  \n",
       "50%                  5.300000e-01     6.966000e+01  \n",
       "75%                  5.300000e-01     6.966000e+01  \n",
       "max                  5.300000e-01     6.966000e+01  "
      ]
     },
     "execution_count": 29,
     "metadata": {},
     "output_type": "execute_result"
    }
   ],
   "source": [
    "df.describe()"
   ]
  },
  {
   "cell_type": "markdown",
   "metadata": {},
   "source": [
    "The above describe gives us mean and median(50% row) of the data."
   ]
  },
  {
   "cell_type": "code",
   "execution_count": 30,
   "metadata": {},
   "outputs": [
    {
     "name": "stdout",
     "output_type": "stream",
     "text": [
      "iso_code  :  IND\n",
      "\n",
      "continent  :  Asia\n",
      "\n",
      "location  :  India\n",
      "\n",
      "total_cases  :  0.0\n",
      "\n",
      "new_cases  :  0.0\n",
      "\n",
      "total_deaths  :  0.0\n",
      "\n",
      "new_deaths  :  0.0\n",
      "\n",
      "total_cases_per_million  :  0.0\n",
      "\n",
      "new_cases_per_million  :  0.0\n",
      "\n",
      "total_deaths_per_million  :  0.0\n",
      "\n",
      "new_deaths_per_million  :  0.0\n",
      "\n",
      "new_tests  :  174257.73076923078\n",
      "\n",
      "total_tests  :  5955751.522058823\n",
      "\n",
      "total_tests_per_thousand  :  4.315772058823529\n",
      "\n",
      "new_tests_per_thousand  :  0.12629230769230768\n",
      "\n",
      "new_tests_smoothed  :  148528.90780141845\n",
      "\n",
      "new_tests_smoothed_per_thousand  :  0.10762411347517736\n",
      "\n",
      "tests_per_case  :  18.192177304964545\n",
      "\n",
      "positive_rate  :  0.0660070921985816\n",
      "\n",
      "tests_units  :  samples tested\n",
      "\n",
      "stringency_index  :  10.19\n",
      "\n",
      "population  :  1380004385.0\n",
      "\n",
      "population_density  :  450.41900000000004\n",
      "\n",
      "median_age  :  28.2\n",
      "\n",
      "aged_65_older  :  5.989\n",
      "\n",
      "aged_70_older  :  3.4139999999999997\n",
      "\n",
      "gdp_per_capita  :  6426.674\n",
      "\n",
      "extreme_poverty  :  21.2\n",
      "\n",
      "cardiovasc_death_rate  :  282.28\n",
      "\n",
      "diabetes_prevalence  :  10.39\n",
      "\n",
      "female_smokers  :  1.9\n",
      "\n",
      "male_smokers  :  20.6\n",
      "\n",
      "handwashing_facilities  :  59.55\n",
      "\n",
      "hospital_beds_per_thousand  :  0.53\n",
      "\n",
      "life_expectancy  :  69.66\n",
      "\n"
     ]
    }
   ],
   "source": [
    "d=dict()\n",
    "for i in df.columns:\n",
    "    if(i!='date'):\n",
    "        d[i]=df[i].mode()[0]\n",
    "for i,j in d.items():\n",
    "    print('{}  :  {}'.format(i,j))\n",
    "    print()"
   ]
  },
  {
   "cell_type": "markdown",
   "metadata": {},
   "source": [
    "This gives us mode of every column in the dataset execpt Date."
   ]
  },
  {
   "cell_type": "markdown",
   "metadata": {},
   "source": [
    "# Bivariate Analysis"
   ]
  },
  {
   "cell_type": "markdown",
   "metadata": {},
   "source": [
    "# a)Scatter Plots(with target column)"
   ]
  },
  {
   "cell_type": "code",
   "execution_count": 31,
   "metadata": {},
   "outputs": [],
   "source": [
    "target=df['total_cases']"
   ]
  },
  {
   "cell_type": "markdown",
   "metadata": {},
   "source": [
    "The Target is total_cases as per given question."
   ]
  },
  {
   "cell_type": "code",
   "execution_count": 32,
   "metadata": {},
   "outputs": [
    {
     "data": {
      "image/png": "[encoded data removed]",
      "text/plain": [
       "<Figure size 432x288 with 1 Axes>"
      ]
     },
     "metadata": {
      "needs_background": "light"
     },
     "output_type": "display_data"
    }
   ],
   "source": [
    "sns.scatterplot(target,y=df['total_deaths'])\n",
    "plt.title(\"Scatter Plot between Target and total deaths\")\n",
    "plt.show()"
   ]
  },
  {
   "cell_type": "markdown",
   "metadata": {},
   "source": [
    "We see that there is positive correlation between the target and feature(total_deaths)."
   ]
  },
  {
   "cell_type": "code",
   "execution_count": 33,
   "metadata": {},
   "outputs": [
    {
     "data": {
      "image/png": "[encoded data removed]",
      "text/plain": [
       "<Figure size 432x288 with 1 Axes>"
      ]
     },
     "metadata": {
      "needs_background": "light"
     },
     "output_type": "display_data"
    }
   ],
   "source": [
    "sns.scatterplot(target,y=df['new_deaths'])\n",
    "plt.title(\"Scatter Plot between Target and new deaths\")\n",
    "plt.show()"
   ]
  },
  {
   "cell_type": "markdown",
   "metadata": {},
   "source": [
    "We see that there is positive correlation between the target and feature(new_deaths)."
   ]
  },
  {
   "cell_type": "code",
   "execution_count": 34,
   "metadata": {},
   "outputs": [
    {
     "data": {
      "image/png": "[encoded data removed]",
      "text/plain": [
       "<Figure size 432x288 with 1 Axes>"
      ]
     },
     "metadata": {
      "needs_background": "light"
     },
     "output_type": "display_data"
    }
   ],
   "source": [
    "sns.scatterplot(target,y=df['new_cases'])\n",
    "plt.title(\"Scatter Plot between Target and new cases\")\n",
    "plt.show()"
   ]
  },
  {
   "cell_type": "markdown",
   "metadata": {},
   "source": [
    "We see that there is positive correlation between the target and feature(new_cases)."
   ]
  },
  {
   "cell_type": "code",
   "execution_count": 35,
   "metadata": {},
   "outputs": [
    {
     "data": {
      "image/png": "[encoded data removed]",
      "text/plain": [
       "<Figure size 432x288 with 1 Axes>"
      ]
     },
     "metadata": {
      "needs_background": "light"
     },
     "output_type": "display_data"
    }
   ],
   "source": [
    "sns.scatterplot(target,y=df['new_tests'])\n",
    "plt.title(\"Scatter Plot between Target and new tests\")\n",
    "plt.show()"
   ]
  },
  {
   "cell_type": "code",
   "execution_count": 36,
   "metadata": {},
   "outputs": [
    {
     "data": {
      "image/png": "[encoded data removed]",
      "text/plain": [
       "<Figure size 432x288 with 1 Axes>"
      ]
     },
     "metadata": {
      "needs_background": "light"
     },
     "output_type": "display_data"
    }
   ],
   "source": [
    "sns.scatterplot(target,y=df['total_tests'])\n",
    "plt.title(\"Scatter Plot between Target and total tests\")\n",
    "plt.show()"
   ]
  },
  {
   "cell_type": "markdown",
   "metadata": {},
   "source": [
    "We see that there is positive correlation between the target and feature(total_tests)."
   ]
  },
  {
   "cell_type": "code",
   "execution_count": 37,
   "metadata": {},
   "outputs": [
    {
     "data": {
      "image/png": "[encoded data removed]",
      "text/plain": [
       "<Figure size 432x288 with 1 Axes>"
      ]
     },
     "metadata": {
      "needs_background": "light"
     },
     "output_type": "display_data"
    }
   ],
   "source": [
    "sns.scatterplot(target,y=df['tests_per_case'])\n",
    "plt.title(\"Scatter Plot between Target and tests per case\")\n",
    "plt.show()"
   ]
  },
  {
   "cell_type": "markdown",
   "metadata": {},
   "source": [
    "In beginning,there were more tests per case,but they decreased and became constant."
   ]
  },
  {
   "cell_type": "code",
   "execution_count": 38,
   "metadata": {},
   "outputs": [
    {
     "data": {
      "image/png": "[encoded data removed]",
      "text/plain": [
       "<Figure size 432x288 with 1 Axes>"
      ]
     },
     "metadata": {
      "needs_background": "light"
     },
     "output_type": "display_data"
    }
   ],
   "source": [
    "sns.scatterplot(target,y=df['new_tests_smoothed'])\n",
    "plt.title(\"Scatter Plot between Target and new_tests_smoothed\")\n",
    "plt.show()"
   ]
  },
  {
   "cell_type": "markdown",
   "metadata": {},
   "source": [
    "We see that there is positive correlation between the target and feature(new_tests_smoothed)."
   ]
  },
  {
   "cell_type": "code",
   "execution_count": 39,
   "metadata": {},
   "outputs": [
    {
     "data": {
      "image/png": "[encoded data removed]",
      "text/plain": [
       "<Figure size 432x288 with 1 Axes>"
      ]
     },
     "metadata": {
      "needs_background": "light"
     },
     "output_type": "display_data"
    }
   ],
   "source": [
    "sns.scatterplot(target,y=df['positive_rate'])\n",
    "plt.title(\"Scatter Plot between Target and positive rate\")\n",
    "plt.show()"
   ]
  },
  {
   "cell_type": "markdown",
   "metadata": {},
   "source": [
    "We see that there was positive correlation between the target and feature,but then it was reversed i.e.,negative correlation."
   ]
  },
  {
   "cell_type": "code",
   "execution_count": 40,
   "metadata": {},
   "outputs": [
    {
     "data": {
      "image/png": "[encoded data removed]",
      "text/plain": [
       "<Figure size 432x288 with 1 Axes>"
      ]
     },
     "metadata": {
      "needs_background": "light"
     },
     "output_type": "display_data"
    }
   ],
   "source": [
    "sns.scatterplot(target,y=df['tests_units'])\n",
    "plt.title(\"Scatter Plot between Target and test_units\")\n",
    "plt.show()"
   ]
  },
  {
   "cell_type": "markdown",
   "metadata": {},
   "source": [
    "We see that there is not relation between the target and feature(tests_units)."
   ]
  },
  {
   "cell_type": "code",
   "execution_count": 41,
   "metadata": {},
   "outputs": [
    {
     "data": {
      "image/png": "[encoded data removed]",
      "text/plain": [
       "<Figure size 432x288 with 1 Axes>"
      ]
     },
     "metadata": {
      "needs_background": "light"
     },
     "output_type": "display_data"
    }
   ],
   "source": [
    "sns.scatterplot(target,y=df['stringency_index'])\n",
    "plt.title(\"Scatter Plot between Target and stringency_index\")\n",
    "plt.show()"
   ]
  },
  {
   "cell_type": "code",
   "execution_count": 42,
   "metadata": {},
   "outputs": [
    {
     "data": {
      "image/png": "[encoded data removed]",
      "text/plain": [
       "<Figure size 432x288 with 1 Axes>"
      ]
     },
     "metadata": {
      "needs_background": "light"
     },
     "output_type": "display_data"
    }
   ],
   "source": [
    "sns.scatterplot(target,y=df['aged_65_older'])\n",
    "plt.title(\"Scatter Plot between Target and population\")\n",
    "plt.show()"
   ]
  },
  {
   "cell_type": "markdown",
   "metadata": {},
   "source": [
    "There is no relationship between target and population."
   ]
  },
  {
   "cell_type": "markdown",
   "metadata": {},
   "source": [
    "# b)Line Plots(with target column)"
   ]
  },
  {
   "cell_type": "code",
   "execution_count": 43,
   "metadata": {},
   "outputs": [
    {
     "data": {
      "image/png": "[encoded data removed]",
      "text/plain": [
       "<Figure size 432x288 with 1 Axes>"
      ]
     },
     "metadata": {
      "needs_background": "light"
     },
     "output_type": "display_data"
    }
   ],
   "source": [
    "sns.lineplot(target,y=df['total_deaths'])\n",
    "plt.title(\"Line Plot between Target and total deaths\")\n",
    "plt.show()"
   ]
  },
  {
   "cell_type": "markdown",
   "metadata": {},
   "source": [
    "As the cases increased the deaths also increased(Positive Correl)."
   ]
  },
  {
   "cell_type": "code",
   "execution_count": 44,
   "metadata": {},
   "outputs": [
    {
     "data": {
      "image/png": "[encoded data removed]",
      "text/plain": [
       "<Figure size 432x288 with 1 Axes>"
      ]
     },
     "metadata": {
      "needs_background": "light"
     },
     "output_type": "display_data"
    }
   ],
   "source": [
    "sns.lineplot(target,y=df['new_deaths'])\n",
    "plt.title(\"Line Plot between Target and new deaths\")\n",
    "plt.show()"
   ]
  },
  {
   "cell_type": "code",
   "execution_count": 45,
   "metadata": {},
   "outputs": [
    {
     "data": {
      "image/png": "[encoded data removed]",
      "text/plain": [
       "<Figure size 432x288 with 1 Axes>"
      ]
     },
     "metadata": {
      "needs_background": "light"
     },
     "output_type": "display_data"
    }
   ],
   "source": [
    "sns.lineplot(target,y=df['new_cases'])\n",
    "plt.title(\"Line Plot between Target and new cases\")\n",
    "plt.show()"
   ]
  },
  {
   "cell_type": "code",
   "execution_count": 46,
   "metadata": {},
   "outputs": [
    {
     "data": {
      "image/png": "[encoded data removed]",
      "text/plain": [
       "<Figure size 432x288 with 1 Axes>"
      ]
     },
     "metadata": {
      "needs_background": "light"
     },
     "output_type": "display_data"
    }
   ],
   "source": [
    "sns.lineplot(target,y=df['new_tests'])\n",
    "plt.title(\"Line Plot between Target and new tests\")\n",
    "plt.show()"
   ]
  },
  {
   "cell_type": "code",
   "execution_count": 47,
   "metadata": {},
   "outputs": [
    {
     "data": {
      "image/png": "[encoded data removed]",
      "text/plain": [
       "<Figure size 432x288 with 1 Axes>"
      ]
     },
     "metadata": {
      "needs_background": "light"
     },
     "output_type": "display_data"
    }
   ],
   "source": [
    "sns.lineplot(target,y=df['total_tests'])\n",
    "plt.title(\"Line Plot between Target and total tests\")\n",
    "plt.show()"
   ]
  },
  {
   "cell_type": "code",
   "execution_count": 48,
   "metadata": {},
   "outputs": [
    {
     "data": {
      "image/png": "[encoded data removed]",
      "text/plain": [
       "<Figure size 432x288 with 1 Axes>"
      ]
     },
     "metadata": {
      "needs_background": "light"
     },
     "output_type": "display_data"
    }
   ],
   "source": [
    "sns.lineplot(target,y=df['tests_per_case'])\n",
    "plt.title(\"Line Plot between Target and tests per case\")\n",
    "plt.show()"
   ]
  },
  {
   "cell_type": "code",
   "execution_count": 49,
   "metadata": {},
   "outputs": [
    {
     "data": {
      "image/png": "[encoded data removed]",
      "text/plain": [
       "<Figure size 432x288 with 1 Axes>"
      ]
     },
     "metadata": {
      "needs_background": "light"
     },
     "output_type": "display_data"
    }
   ],
   "source": [
    "sns.lineplot(target,y=df['new_tests_smoothed'])\n",
    "plt.title(\"Line Plot between Target and new_test_smoothed\")\n",
    "plt.show()"
   ]
  },
  {
   "cell_type": "code",
   "execution_count": 50,
   "metadata": {},
   "outputs": [
    {
     "data": {
      "image/png": "[encoded data removed]",
      "text/plain": [
       "<Figure size 432x288 with 1 Axes>"
      ]
     },
     "metadata": {
      "needs_background": "light"
     },
     "output_type": "display_data"
    }
   ],
   "source": [
    "sns.lineplot(target,y=df['positive_rate'])\n",
    "plt.title(\"Line Plot between Target and positive rate\")\n",
    "plt.show()"
   ]
  },
  {
   "cell_type": "markdown",
   "metadata": {},
   "source": [
    "We see that there was positive correlation between the target and feature,but then it was reversed i.e.,negative correlation."
   ]
  },
  {
   "cell_type": "code",
   "execution_count": 56,
   "metadata": {},
   "outputs": [
    {
     "data": {
      "image/png": "[encoded data removed]",
      "text/plain": [
       "<Figure size 432x288 with 1 Axes>"
      ]
     },
     "metadata": {
      "needs_background": "light"
     },
     "output_type": "display_data"
    }
   ],
   "source": [
    "sns.lineplot(target,y=df['gdp_per_capita'])\n",
    "plt.title(\"Line Plot between Target and gdp_per_capita\")\n",
    "plt.show()"
   ]
  },
  {
   "cell_type": "markdown",
   "metadata": {},
   "source": [
    "There is no relation between the gdp_per_capita and target."
   ]
  },
  {
   "cell_type": "code",
   "execution_count": 52,
   "metadata": {},
   "outputs": [
    {
     "data": {
      "image/png": "[encoded data removed]",
      "text/plain": [
       "<Figure size 432x288 with 1 Axes>"
      ]
     },
     "metadata": {
      "needs_background": "light"
     },
     "output_type": "display_data"
    }
   ],
   "source": [
    "sns.lineplot(target,y=df['handwashing_facilities'])\n",
    "plt.title(\"Line Plot between Target and handwashing_facilities\")\n",
    "plt.show()"
   ]
  },
  {
   "cell_type": "markdown",
   "metadata": {},
   "source": [
    "No relation between target and handwashing_facilities."
   ]
  },
  {
   "cell_type": "markdown",
   "metadata": {},
   "source": [
    "Converting all dates to its ordinal values."
   ]
  },
  {
   "cell_type": "code",
   "execution_count": 57,
   "metadata": {},
   "outputs": [],
   "source": [
    "import datetime as dt\n",
    "df[\"date\"]=pd.to_datetime(df[\"date\"])\n",
    "df['date']=df[\"date\"].map(dt.datetime.toordinal)"
   ]
  },
  {
   "cell_type": "markdown",
   "metadata": {},
   "source": [
    "Converting Categorical column to numeric column using Label Encoder."
   ]
  },
  {
   "cell_type": "code",
   "execution_count": 58,
   "metadata": {},
   "outputs": [],
   "source": [
    "from sklearn.preprocessing import LabelEncoder\n",
    "labelEncoder=LabelEncoder()\n",
    "labelEncoder.fit(df[\"tests_units\"])\n",
    "df[\"tests_units\"]=labelEncoder.transform(df[\"tests_units\"])"
   ]
  },
  {
   "cell_type": "markdown",
   "metadata": {},
   "source": [
    "# Train-Test and Split"
   ]
  },
  {
   "cell_type": "code",
   "execution_count": 59,
   "metadata": {},
   "outputs": [],
   "source": [
    "y=df['total_cases']"
   ]
  },
  {
   "cell_type": "code",
   "execution_count": 60,
   "metadata": {},
   "outputs": [],
   "source": [
    "x=df.drop(['total_cases','iso_code', 'continent', 'location'],axis=1)"
   ]
  },
  {
   "cell_type": "code",
   "execution_count": 61,
   "metadata": {},
   "outputs": [],
   "source": [
    "from sklearn.model_selection import train_test_split\n",
    "x_train,x_test,y_train,y_test=train_test_split(x,y,test_size=0.30,random_state=42)"
   ]
  },
  {
   "cell_type": "code",
   "execution_count": 62,
   "metadata": {},
   "outputs": [
    {
     "data": {
      "text/plain": [
       "(155, 32)"
      ]
     },
     "execution_count": 62,
     "metadata": {},
     "output_type": "execute_result"
    }
   ],
   "source": [
    "x_train.shape"
   ]
  },
  {
   "cell_type": "markdown",
   "metadata": {},
   "source": [
    "# LinearRegression"
   ]
  },
  {
   "cell_type": "code",
   "execution_count": 63,
   "metadata": {},
   "outputs": [],
   "source": [
    "from sklearn.linear_model import LinearRegression"
   ]
  },
  {
   "cell_type": "code",
   "execution_count": 64,
   "metadata": {},
   "outputs": [],
   "source": [
    "lr=LinearRegression()"
   ]
  },
  {
   "cell_type": "code",
   "execution_count": 65,
   "metadata": {},
   "outputs": [
    {
     "data": {
      "text/plain": [
       "LinearRegression(copy_X=True, fit_intercept=True, n_jobs=None, normalize=False)"
      ]
     },
     "execution_count": 65,
     "metadata": {},
     "output_type": "execute_result"
    }
   ],
   "source": [
    "lr.fit(x_train,y_train)"
   ]
  },
  {
   "cell_type": "code",
   "execution_count": 66,
   "metadata": {},
   "outputs": [
    {
     "data": {
      "text/plain": [
       "0.9999999999991617"
      ]
     },
     "execution_count": 66,
     "metadata": {},
     "output_type": "execute_result"
    }
   ],
   "source": [
    "lr.score(x_test,y_test)"
   ]
  },
  {
   "cell_type": "markdown",
   "metadata": {},
   "source": [
    "The accuracy of the data trained on linear regression is 99.999%"
   ]
  },
  {
   "cell_type": "markdown",
   "metadata": {},
   "source": [
    "# Creating new DataFrame"
   ]
  },
  {
   "cell_type": "code",
   "execution_count": 67,
   "metadata": {},
   "outputs": [],
   "source": [
    "newdate=pd.Timestamp(year = 2020,  month = 8 , day = 19)"
   ]
  },
  {
   "cell_type": "code",
   "execution_count": 68,
   "metadata": {},
   "outputs": [],
   "source": [
    "newdate=newdate.toordinal()"
   ]
  },
  {
   "cell_type": "code",
   "execution_count": 69,
   "metadata": {},
   "outputs": [
    {
     "data": {
      "text/html": [
       "<div>\n",
       "<style scoped>\n",
       "    .dataframe tbody tr th:only-of-type {\n",
       "        vertical-align: middle;\n",
       "    }\n",
       "\n",
       "    .dataframe tbody tr th {\n",
       "        vertical-align: top;\n",
       "    }\n",
       "\n",
       "    .dataframe thead th {\n",
       "        text-align: right;\n",
       "    }\n",
       "</style>\n",
       "<table border=\"1\" class=\"dataframe\">\n",
       "  <thead>\n",
       "    <tr style=\"text-align: right;\">\n",
       "      <th></th>\n",
       "      <th>date</th>\n",
       "      <th>new_cases</th>\n",
       "      <th>total_deaths</th>\n",
       "      <th>new_deaths</th>\n",
       "      <th>total_cases_per_million</th>\n",
       "      <th>new_cases_per_million</th>\n",
       "      <th>total_deaths_per_million</th>\n",
       "      <th>new_deaths_per_million</th>\n",
       "      <th>new_tests</th>\n",
       "      <th>total_tests</th>\n",
       "      <th>total_tests_per_thousand</th>\n",
       "      <th>new_tests_per_thousand</th>\n",
       "      <th>new_tests_smoothed</th>\n",
       "      <th>new_tests_smoothed_per_thousand</th>\n",
       "      <th>tests_per_case</th>\n",
       "      <th>positive_rate</th>\n",
       "      <th>tests_units</th>\n",
       "      <th>stringency_index</th>\n",
       "      <th>population</th>\n",
       "      <th>population_density</th>\n",
       "      <th>median_age</th>\n",
       "      <th>aged_65_older</th>\n",
       "      <th>aged_70_older</th>\n",
       "      <th>gdp_per_capita</th>\n",
       "      <th>extreme_poverty</th>\n",
       "      <th>cardiovasc_death_rate</th>\n",
       "      <th>diabetes_prevalence</th>\n",
       "      <th>female_smokers</th>\n",
       "      <th>male_smokers</th>\n",
       "      <th>handwashing_facilities</th>\n",
       "      <th>hospital_beds_per_thousand</th>\n",
       "      <th>life_expectancy</th>\n",
       "    </tr>\n",
       "  </thead>\n",
       "  <tbody>\n",
       "    <tr>\n",
       "      <th>0</th>\n",
       "      <td>737656</td>\n",
       "      <td>64000.0</td>\n",
       "      <td>42518.0</td>\n",
       "      <td>800.0</td>\n",
       "      <td>1561.147</td>\n",
       "      <td>47.666</td>\n",
       "      <td>32.19</td>\n",
       "      <td>0.624</td>\n",
       "      <td>174257.730769</td>\n",
       "      <td>5955752.0</td>\n",
       "      <td>5.962</td>\n",
       "      <td>0.463</td>\n",
       "      <td>534380.0</td>\n",
       "      <td>0.41</td>\n",
       "      <td>18.192177</td>\n",
       "      <td>0.098</td>\n",
       "      <td>0</td>\n",
       "      <td>10.17</td>\n",
       "      <td>1.380004e+09</td>\n",
       "      <td>450.419</td>\n",
       "      <td>28.2</td>\n",
       "      <td>5.989</td>\n",
       "      <td>3.414</td>\n",
       "      <td>6426.674</td>\n",
       "      <td>21.2</td>\n",
       "      <td>284.28</td>\n",
       "      <td>10.39</td>\n",
       "      <td>1.9</td>\n",
       "      <td>20.6</td>\n",
       "      <td>60</td>\n",
       "      <td>0.54</td>\n",
       "      <td>70</td>\n",
       "    </tr>\n",
       "  </tbody>\n",
       "</table>\n",
       "</div>"
      ],
      "text/plain": [
       "     date  new_cases  total_deaths  new_deaths  total_cases_per_million  \\\n",
       "0  737656    64000.0       42518.0       800.0                 1561.147   \n",
       "\n",
       "   new_cases_per_million  total_deaths_per_million  new_deaths_per_million  \\\n",
       "0                 47.666                     32.19                   0.624   \n",
       "\n",
       "       new_tests  total_tests  total_tests_per_thousand  \\\n",
       "0  174257.730769    5955752.0                     5.962   \n",
       "\n",
       "   new_tests_per_thousand  new_tests_smoothed  \\\n",
       "0                   0.463            534380.0   \n",
       "\n",
       "   new_tests_smoothed_per_thousand  tests_per_case  positive_rate  \\\n",
       "0                             0.41       18.192177          0.098   \n",
       "\n",
       "   tests_units  stringency_index    population  population_density  \\\n",
       "0            0             10.17  1.380004e+09             450.419   \n",
       "\n",
       "   median_age  aged_65_older  aged_70_older  gdp_per_capita  extreme_poverty  \\\n",
       "0        28.2          5.989          3.414        6426.674             21.2   \n",
       "\n",
       "   cardiovasc_death_rate  diabetes_prevalence  female_smokers  male_smokers  \\\n",
       "0                 284.28                10.39             1.9          20.6   \n",
       "\n",
       "   handwashing_facilities  hospital_beds_per_thousand  life_expectancy  \n",
       "0                      60                        0.54               70  "
      ]
     },
     "execution_count": 69,
     "metadata": {},
     "output_type": "execute_result"
    }
   ],
   "source": [
    "d=[{'date':newdate,'new_cases':64000.0,'total_deaths':42518.0,'new_deaths':800.0,'total_cases_per_million':1561.147,'new_cases_per_million':47.666,'total_deaths_per_million':32.190,'new_deaths_per_million':0.624,'new_tests':174257.730769,'total_tests':5.955752e+06,'total_tests_per_thousand':5.962000,'new_tests_per_thousand':0.463000,'new_tests_smoothed':534380.000000,'new_tests_smoothed_per_thousand':0.410000,'tests_per_case':18.192177,'positive_rate':0.098000,'tests_units':0,'stringency_index':10.17,'population':1.380004e+09,'population_density':450.419,'median_age':28.2,'aged_65_older':5.989,'aged_70_older':3.414,'gdp_per_capita':6426.674,'extreme_poverty':21.2,'cardiovasc_death_rate':284.28,'diabetes_prevalence':10.39,'female_smokers':1.9,'male_smokers':20.6,'handwashing_facilities':60,'hospital_beds_per_thousand':0.54,'life_expectancy':70}]\n",
    "newdata=pd.DataFrame(d)\n",
    "newdata"
   ]
  },
  {
   "cell_type": "markdown",
   "metadata": {},
   "source": [
    "# ->Predicting target(total cases) on new data by using LinearRegression"
   ]
  },
  {
   "cell_type": "code",
   "execution_count": 70,
   "metadata": {},
   "outputs": [
    {
     "name": "stdout",
     "output_type": "stream",
     "text": [
      "The Prediction on new data is: 2154339.9956315644\n"
     ]
    }
   ],
   "source": [
    "y_pred1=lr.predict(newdata)\n",
    "print(\"The Prediction on new data is:\",y_pred1[0])"
   ]
  },
  {
   "cell_type": "markdown",
   "metadata": {},
   "source": [
    "# RandomForestRegressor"
   ]
  },
  {
   "cell_type": "code",
   "execution_count": 71,
   "metadata": {},
   "outputs": [],
   "source": [
    "from sklearn.ensemble import RandomForestRegressor"
   ]
  },
  {
   "cell_type": "code",
   "execution_count": 72,
   "metadata": {},
   "outputs": [],
   "source": [
    "rf=RandomForestRegressor(n_estimators=5,random_state=41)"
   ]
  },
  {
   "cell_type": "code",
   "execution_count": 73,
   "metadata": {},
   "outputs": [
    {
     "data": {
      "text/plain": [
       "RandomForestRegressor(bootstrap=True, ccp_alpha=0.0, criterion='mse',\n",
       "                      max_depth=None, max_features='auto', max_leaf_nodes=None,\n",
       "                      max_samples=None, min_impurity_decrease=0.0,\n",
       "                      min_impurity_split=None, min_samples_leaf=1,\n",
       "                      min_samples_split=2, min_weight_fraction_leaf=0.0,\n",
       "                      n_estimators=5, n_jobs=None, oob_score=False,\n",
       "                      random_state=41, verbose=0, warm_start=False)"
      ]
     },
     "execution_count": 73,
     "metadata": {},
     "output_type": "execute_result"
    }
   ],
   "source": [
    "rf.fit(x_train,y_train)"
   ]
  },
  {
   "cell_type": "code",
   "execution_count": 74,
   "metadata": {},
   "outputs": [
    {
     "data": {
      "text/plain": [
       "0.9973178301729622"
      ]
     },
     "execution_count": 74,
     "metadata": {},
     "output_type": "execute_result"
    }
   ],
   "source": [
    "rf.score(x_test,y_test)"
   ]
  },
  {
   "cell_type": "markdown",
   "metadata": {},
   "source": [
    "The accuracy of dataset by using RandomForestRegressor is 99.73%"
   ]
  },
  {
   "cell_type": "markdown",
   "metadata": {},
   "source": [
    "# ->Predicting target(total cases) on new data by using RandomForestRegressor"
   ]
  },
  {
   "cell_type": "code",
   "execution_count": 75,
   "metadata": {},
   "outputs": [
    {
     "name": "stdout",
     "output_type": "stream",
     "text": [
      "The Prediction on new data is: 2024422.4\n"
     ]
    }
   ],
   "source": [
    "y_pred2=rf.predict(newdata)\n",
    "print(\"The Prediction on new data is:\",y_pred2[0])"
   ]
  }
 ],
 "metadata": {
  "kernelspec": {
   "display_name": "Python 3",
   "language": "python",
   "name": "python3"
  },
  "language_info": {
   "codemirror_mode": {
    "name": "ipython",
    "version": 3
   },
   "file_extension": ".py",
   "mimetype": "text/x-python",
   "name": "python",
   "nbconvert_exporter": "python",
   "pygments_lexer": "ipython3",
   "version": "3.7.6"
  }
 },
 "nbformat": 4,
 "nbformat_minor": 4
}
